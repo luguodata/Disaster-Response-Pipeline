{
 "cells": [
  {
   "cell_type": "markdown",
   "metadata": {},
   "source": [
    "# ML Pipeline Preparation\n",
    "Follow the instructions below to help you create your ML pipeline.\n",
    "### 1. Import libraries and load data from database.\n",
    "- Import Python libraries\n",
    "- Load dataset from database with [`read_sql_table`](https://pandas.pydata.org/pandas-docs/stable/generated/pandas.read_sql_table.html)\n",
    "- Define feature and target variables X and Y"
   ]
  },
  {
   "cell_type": "code",
   "execution_count": 1,
   "metadata": {},
   "outputs": [],
   "source": [
    "# import libraries\n",
    "import sys\n",
    "import re\n",
    "import pandas as pd\n",
    "import numpy as np\n",
    "from sqlalchemy import create_engine\n",
    "import warnings \n",
    "warnings.filterwarnings('ignore')\n",
    "from nltk import word_tokenize\n",
    "from nltk.stem import WordNetLemmatizer\n",
    "from nltk.corpus import stopwords\n",
    "from sklearn.feature_extraction.text import CountVectorizer, TfidfTransformer\n",
    "from sklearn.multioutput import MultiOutputClassifier\n",
    "from sklearn.pipeline import Pipeline, FeatureUnion\n",
    "from sklearn.ensemble import RandomForestClassifier\n",
    "from sklearn.model_selection import train_test_split\n",
    "from sklearn.base import BaseEstimator, TransformerMixin\n",
    "from sklearn.metrics import classification_report, f1_score\n",
    "from sklearn.model_selection import GridSearchCV\n",
    "from sklearn.linear_model import SGDClassifier, LogisticRegression\n",
    "from sklearn.preprocessing import OneHotEncoder"
   ]
  },
  {
   "cell_type": "code",
   "execution_count": null,
   "metadata": {
    "scrolled": true
   },
   "outputs": [],
   "source": [
    "# load data from database\n",
    "engine = create_engine('sqlite:///DisasterResponse.db')\n",
    "df = pd.read_sql_table('ETL_processed_data', engine)\n",
    "\n",
    "# take a look of df\n",
    "df.head()"
   ]
  },
  {
   "cell_type": "code",
   "execution_count": null,
   "metadata": {},
   "outputs": [],
   "source": [
    "df[['message','original','genre']].dtypes"
   ]
  },
  {
   "cell_type": "code",
   "execution_count": null,
   "metadata": {},
   "outputs": [],
   "source": []
  },
  {
   "cell_type": "code",
   "execution_count": null,
   "metadata": {},
   "outputs": [],
   "source": [
    "# define the columns \"message\" + \"original\" + \"genre\" as predictors and rest 36 categories as target\n",
    "X = df.ix[:,1:4]\n",
    "Y = df.ix[:,4:]"
   ]
  },
  {
   "cell_type": "code",
   "execution_count": null,
   "metadata": {},
   "outputs": [],
   "source": [
    "X['message'][26187]"
   ]
  },
  {
   "cell_type": "code",
   "execution_count": null,
   "metadata": {},
   "outputs": [],
   "source": [
    "X['original'].isnull().sum()/df.shape[0]"
   ]
  },
  {
   "cell_type": "code",
   "execution_count": null,
   "metadata": {},
   "outputs": [],
   "source": [
    "X['genre'].dtype"
   ]
  },
  {
   "cell_type": "code",
   "execution_count": null,
   "metadata": {
    "scrolled": true
   },
   "outputs": [],
   "source": [
    "Y"
   ]
  },
  {
   "cell_type": "code",
   "execution_count": null,
   "metadata": {},
   "outputs": [],
   "source": [
    "for y in Y.columns.values.tolist():\n",
    "    print(y)\n",
    "    print(Y[y].value_counts())\n",
    "    print('\\n')"
   ]
  },
  {
   "cell_type": "markdown",
   "metadata": {},
   "source": [
    "### Do some data exploratory"
   ]
  },
  {
   "cell_type": "code",
   "execution_count": null,
   "metadata": {},
   "outputs": [],
   "source": [
    "# Take a look of predictors and targets\n",
    "X.head()"
   ]
  },
  {
   "cell_type": "code",
   "execution_count": null,
   "metadata": {},
   "outputs": [],
   "source": [
    "Y.head()"
   ]
  },
  {
   "cell_type": "code",
   "execution_count": null,
   "metadata": {},
   "outputs": [],
   "source": [
    "# check the null values distribution\n",
    "X.isnull().sum()"
   ]
  },
  {
   "cell_type": "code",
   "execution_count": null,
   "metadata": {
    "scrolled": true
   },
   "outputs": [],
   "source": [
    "Y.isnull().sum()"
   ]
  },
  {
   "cell_type": "code",
   "execution_count": null,
   "metadata": {},
   "outputs": [],
   "source": [
    "X['genre'].value_counts()\n"
   ]
  },
  {
   "cell_type": "code",
   "execution_count": null,
   "metadata": {
    "scrolled": true
   },
   "outputs": [],
   "source": [
    "X.select_dtypes(include='object')"
   ]
  },
  {
   "cell_type": "markdown",
   "metadata": {},
   "source": [
    "** Findings\n",
    "For predictors, \"message\" and \"original\" are text variables. \"original\" has 16,046 missing values. \"genre\" is \n",
    "categorical variable and has 3 levels. I am going to do some preprocessing to deal with missing values and text transform.\n",
    "Create dummy variables for the categorical one.\n",
    "For targets, we have no missing values and each label is composed of 0 or 1."
   ]
  },
  {
   "cell_type": "markdown",
   "metadata": {},
   "source": [
    "### 2. Write a tokenization function to process your text data"
   ]
  },
  {
   "cell_type": "code",
   "execution_count": null,
   "metadata": {},
   "outputs": [],
   "source": [
    "def tokenize(text):\n",
    "    \n",
    "    # Normailization -- lower case + remove puntuation \n",
    "    text = re.sub(r\"[^a-zA-Z0-9]\",\" \",text.lower())\n",
    "    \n",
    "    # tokenization\n",
    "    tokens = word_tokenize(text)\n",
    "    \n",
    "    # Remove stop words\n",
    "    words = [word for word in tokens if word not in stopwords.words(\"english\")]\n",
    "    \n",
    "    # stemmization\n",
    "    text_lems = [WordNetLemmatizer().lemmatize(lem).strip() for lem in words]\n",
    "        \n",
    "    return text_lems"
   ]
  },
  {
   "cell_type": "code",
   "execution_count": null,
   "metadata": {},
   "outputs": [],
   "source": [
    "tokenize(X['message'].values[20])"
   ]
  },
  {
   "cell_type": "markdown",
   "metadata": {},
   "source": [
    "### 3. Build a machine learning pipeline\n",
    "This machine pipeline should take in the `message` column as input and output classification results on the other 36 categories in the dataset. You may find the [MultiOutputClassifier](http://scikit-learn.org/stable/modules/generated/sklearn.multioutput.MultiOutputClassifier.html) helpful for predicting multiple target variables."
   ]
  },
  {
   "cell_type": "code",
   "execution_count": null,
   "metadata": {},
   "outputs": [],
   "source": [
    "pipeline = Pipeline([\n",
    "    ('vect', CountVectorizer(tokenizer = tokenize)),\n",
    "    ('tfidf', TfidfTransformer()),\n",
    "    ('clf', MultiOutputClassifier(RandomForestClassifier(n_estimators = 50, max_depth = 3, min_samples_split = 2)))\n",
    "])"
   ]
  },
  {
   "cell_type": "code",
   "execution_count": null,
   "metadata": {},
   "outputs": [],
   "source": [
    "# Build text categorical data type selector\n",
    "\n",
    "class Cate_Text_Selector(BaseEstimator, TransformerMixin):\n",
    "    \n",
    "    def __init__(self, dtype):\n",
    "        self.dtype = dtype\n",
    "        \n",
    "    def fit(self, X, y = None):\n",
    "        return self\n",
    "    \n",
    "    def text_selector(self, X):\n",
    "        \n",
    "        text_col = []\n",
    "        cate_col = []\n",
    "        \n",
    "        for col in X.select_dtypes(include='object').columns.tolist():\n",
    "            if len(X[col].unique()) > 0.5 * len(X[X[col].notnull()]):\n",
    "                text_col.append(col)\n",
    "            else:\n",
    "                cate_col.append(col)\n",
    "                \n",
    "        return text_col, cate_col\n",
    "        \n",
    "    def transform(self, X):\n",
    "        \n",
    "        text_col, cate_col = self.text_selector(X)\n",
    "        \n",
    "        if self.dtype == 'text':\n",
    "            return X[text_col].values[:,0]\n",
    "        if self.dtype == 'category':\n",
    "            return X[cate_col].values"
   ]
  },
  {
   "cell_type": "code",
   "execution_count": null,
   "metadata": {},
   "outputs": [],
   "source": [
    "cts = Cate_Text_Selector('text')"
   ]
  },
  {
   "cell_type": "code",
   "execution_count": null,
   "metadata": {
    "scrolled": true
   },
   "outputs": [],
   "source": [
    "cts.fit_transform(df[['message']])#[:,0]##.values"
   ]
  },
  {
   "cell_type": "markdown",
   "metadata": {},
   "source": [
    "### 4. Train pipeline\n",
    "- Split data into train and test sets\n",
    "- Train pipeline"
   ]
  },
  {
   "cell_type": "code",
   "execution_count": null,
   "metadata": {
    "scrolled": true
   },
   "outputs": [],
   "source": [
    "# Split train and test datasets\n",
    "X_train, X_test, Y_train, Y_test = train_test_split(X[['message','genre']],Y,test_size = 0.25, random_state = 42)"
   ]
  },
  {
   "cell_type": "code",
   "execution_count": null,
   "metadata": {},
   "outputs": [],
   "source": [
    "pipeline = Pipeline([\n",
    "    ('features', FeatureUnion([\n",
    "        ('text_features', Pipeline([\n",
    "            ('selector',Cate_Text_Selector('text')),\n",
    "            ('vect', CountVectorizer(tokenizer = tokenize)),\n",
    "            ('tfidf', TfidfTransformer())\n",
    "        ])),# Text preprocessing ends\n",
    "        \n",
    "        ('cate_features', Pipeline([\n",
    "            ('selector',Cate_Text_Selector('category')),\n",
    "            ('dummy', OneHotEncoder())\n",
    "        ])) # Normal categorical variable preprocessing ends\n",
    "    ])), # Feature part ends\n",
    "    \n",
    "    ('clf', MultiOutputClassifier(SGDClassifier()))\n",
    "])"
   ]
  },
  {
   "cell_type": "code",
   "execution_count": null,
   "metadata": {
    "scrolled": true
   },
   "outputs": [],
   "source": [
    "# Train pipeline\n",
    "pipeline.fit(X_train, Y_train)"
   ]
  },
  {
   "cell_type": "markdown",
   "metadata": {},
   "source": [
    "### 5. Test your model\n",
    "Report the f1 score, precision and recall for each output category of the dataset. You can do this by iterating through the columns and calling sklearn's `classification_report` on each."
   ]
  },
  {
   "cell_type": "code",
   "execution_count": null,
   "metadata": {
    "scrolled": true
   },
   "outputs": [],
   "source": [
    "# get prediction on test dataset\n",
    "Y_pred = pipeline.predict(X_test)\n",
    "\n",
    "# Output evaluation score for each target column\n",
    "target_columns = Y.columns.values\n",
    "\n",
    "weighted_fscore = 0\n",
    "for i in np.arange(0,36,1):\n",
    "    print(\"Target:{}\".format(target_columns[i]))\n",
    "    print(\"\\n\")\n",
    "    print(classification_report(Y_test.values[i],Y_pred[i]))\n",
    "    print('\\n')\n",
    "    print('\\n')\n",
    "    weighted_fscore += f1_score(Y_test.values[i],Y_pred[i], average='weighted')\n",
    "\n",
    "print(weighted_fscore/(i+1))"
   ]
  },
  {
   "cell_type": "markdown",
   "metadata": {},
   "source": [
    "### 6. Improve your model\n",
    "Use grid search to find better parameters. "
   ]
  },
  {
   "cell_type": "code",
   "execution_count": null,
   "metadata": {},
   "outputs": [],
   "source": [
    "parameters = {\n",
    "    'clf__estimator__n_estimators': [20, 50],\n",
    "    'clf__estimator__max_depth': [3, 6],\n",
    "    'clf__estimator__min_samples_split': [2,4]\n",
    "}\n",
    "\n",
    "cv = GridSearchCV(pipeline, param_grid= parameters)\n",
    "cv.fit(X_train, Y_train)\n",
    "print(cv.best_params_)"
   ]
  },
  {
   "cell_type": "markdown",
   "metadata": {},
   "source": [
    "### 7. Test your model\n",
    "Show the accuracy, precision, and recall of the tuned model.  \n",
    "\n",
    "Since this project focuses on code quality, process, and  pipelines, there is no minimum performance metric needed to pass. However, make sure to fine tune your models for accuracy, precision and recall to make your project stand out - especially for your portfolio!"
   ]
  },
  {
   "cell_type": "code",
   "execution_count": null,
   "metadata": {},
   "outputs": [],
   "source": [
    "cv_pred = cv.predict(X_test)\n",
    "\n",
    "weighted_fscore = 0\n",
    "for i in np.arange(0,36,1):\n",
    "    print(\"Target:{}\".format(target_columns[i]))\n",
    "    print(\"\\n\")\n",
    "    print(classification_report(Y_test[i],cv_pred[i]))\n",
    "    print('\\n')\n",
    "    print('\\n')\n",
    "    weighted_fscore += f1_score(Y_test[i],cv_pred[i], average='weighted')\n",
    "\n",
    "print(weighted_fscore/(i+1))"
   ]
  },
  {
   "cell_type": "markdown",
   "metadata": {},
   "source": [
    "### 8. Try improving your model further. Here are a few ideas:\n",
    "* try other machine learning algorithms\n",
    "* add other features besides the TF-IDF"
   ]
  },
  {
   "cell_type": "markdown",
   "metadata": {},
   "source": [
    "*** Need to do in pipeline:\n",
    "    1. data type selector -- class\n",
    "    2. text variable selector\n",
    "    3. deal with each data type: \n",
    "        1) numerical -- scaler + imputer (mean)\n",
    "        2) categorical -- imputer ('NaN') + CountVectorizer + tfidf\n",
    "    4. clf\n",
    "    5. Put all together\n",
    "    \n",
    "*** Need to do in different algorithm\n",
    "    1. Try SGDClassifier\n",
    "    2. Try Logistic Regression\n",
    "    \n",
    "*** Compile\n",
    "    1. load data\n",
    "    2. functions\n",
    "    3. pipeline\n",
    "    4. output evaluation results\n",
    "    4. main()"
   ]
  },
  {
   "cell_type": "code",
   "execution_count": null,
   "metadata": {},
   "outputs": [],
   "source": [
    "#### Add more features -- original, genre\n"
   ]
  },
  {
   "cell_type": "code",
   "execution_count": null,
   "metadata": {},
   "outputs": [],
   "source": [
    "# Try SGD\n",
    "pipeline = Pipeline([\n",
    "    ('vect', CountVectorizer(tokenizer = tokenize)),\n",
    "    ('tfidf', TfidfTransformer()),\n",
    "    ('clf', MultiOutputClassifier(SGDClassifier()))\n",
    "])"
   ]
  },
  {
   "cell_type": "code",
   "execution_count": null,
   "metadata": {},
   "outputs": [],
   "source": []
  },
  {
   "cell_type": "markdown",
   "metadata": {},
   "source": [
    "### 9. Export your model as a pickle file"
   ]
  },
  {
   "cell_type": "markdown",
   "metadata": {},
   "source": [
    "### 10. Use this notebook to complete `train.py`\n",
    "Use the template file attached in the Resources folder to write a script that runs the steps above to create a database and export a model based on a new dataset specified by the user."
   ]
  },
  {
   "cell_type": "code",
   "execution_count": null,
   "metadata": {},
   "outputs": [
    {
     "name": "stdout",
     "output_type": "stream",
     "text": [
      "Building model...\n",
      "Training model...\n"
     ]
    }
   ],
   "source": [
    "def load_data(database_filepath):\n",
    "    \"\"\"\n",
    "    \"\"\"\n",
    "    # load data from database\n",
    "    engine = create_engine(database_filepath)\n",
    "    df = pd.read_sql_table('ETL_processed_data', engine)\n",
    "    \n",
    "    # split training and testing dataset\n",
    "    X = df.ix[:,1:4]\n",
    "    Y = df.ix[:,4:]\n",
    "    \n",
    "    # get target variable names\n",
    "    category_names = Y.columns.tolist()\n",
    "    \n",
    "    return X, Y, category_names\n",
    "\n",
    "\n",
    "def tokenize(text):\n",
    "    \"\"\"\n",
    "    \"\"\"\n",
    "    # Normailization -- lower case + remove puntuation \n",
    "    text = re.sub(r\"[^a-zA-Z0-9]\",\" \",text.lower())\n",
    "    \n",
    "    # tokenization\n",
    "    tokens = word_tokenize(text)\n",
    "    \n",
    "    # Remove stop words\n",
    "    words = [word for word in tokens if word not in stopwords.words(\"english\")]\n",
    "    \n",
    "    # stemmization\n",
    "    text_lems = [WordNetLemmatizer().lemmatize(lem).strip() for lem in words]\n",
    "        \n",
    "    return text_lems\n",
    "\n",
    "\n",
    "# Build text categorical data type selector\n",
    "\n",
    "class Cate_Text_Selector(BaseEstimator, TransformerMixin):\n",
    "    \n",
    "    def __init__(self, dtype):\n",
    "        self.dtype = dtype\n",
    "        \n",
    "    def fit(self, X, y = None):\n",
    "        return self\n",
    "    \n",
    "    def text_selector(self, X):\n",
    "        \n",
    "        text_col = []\n",
    "        cate_col = []\n",
    "        \n",
    "        for col in X.select_dtypes(include='object').columns.tolist():\n",
    "            if len(X[col].unique()) > 0.5 * len(X[X[col].notnull()]):\n",
    "                text_col.append(col)\n",
    "            else:\n",
    "                cate_col.append(col)\n",
    "                \n",
    "        return text_col, cate_col\n",
    "        \n",
    "    def transform(self, X):\n",
    "        \n",
    "        text_col, cate_col = self.text_selector(X)\n",
    "        \n",
    "        if self.dtype == 'text':\n",
    "            return X[text_col].values[:,0]\n",
    "        if self.dtype == 'category':\n",
    "            return X[cate_col].values\n",
    "\n",
    "\n",
    "def build_model():\n",
    "    \"\"\"\n",
    "    \"\"\"\n",
    "    \n",
    "    # feature preprocessing pipeline\n",
    "    pipeline = Pipeline([\n",
    "        ('features', FeatureUnion([\n",
    "            ('text_features', Pipeline([\n",
    "                ('selector',Cate_Text_Selector('text')),\n",
    "                ('vect', CountVectorizer(tokenizer = tokenize)),\n",
    "                ('tfidf', TfidfTransformer())\n",
    "            ])),# Text preprocessing ends\n",
    "\n",
    "            ('cate_features', Pipeline([\n",
    "                ('selector',Cate_Text_Selector('category')),\n",
    "                ('dummy', OneHotEncoder())\n",
    "            ])) # Normal categorical variable preprocessing ends\n",
    "        ])), # Feature part ends\n",
    "\n",
    "        ('clf', MultiOutputClassifier(RandomForestClassifier()))\n",
    "    ])\n",
    "    \n",
    "    # grid search\n",
    "    parameters = {\n",
    "        #'clf__estimator__n_estimators': [20, 50],\n",
    "        #'clf__estimator__max_depth': [3, 6]\n",
    "        'clf__estimator__min_samples_split': [2,4]\n",
    "        #'clf__estimator__loss': ['log', 'hinge']\n",
    "        #'clf__estimator__penalty': ['l2']\n",
    "        #'clf__estimator__alpha': [0.001, 0.0001]\n",
    "    }\n",
    "\n",
    "    cv = GridSearchCV(pipeline, param_grid= parameters)\n",
    "    \n",
    "    return cv\n",
    "\n",
    "\n",
    "def evaluate_model(model, X_test, Y_test, category_names):\n",
    "    \"\"\"\n",
    "    \"\"\"\n",
    "    # prediction on test dataset\n",
    "    Y_pred = model.predict(X_test)\n",
    "    \n",
    "    # initialize aggregated avg score\n",
    "    weighted_fscore = 0\n",
    "    \n",
    "    for i in np.arange(0,36,1):\n",
    "        print(\"Target:{}\".format(category_names[i]))\n",
    "        print(\"\\n\")\n",
    "        print(classification_report(Y_test.values[i],Y_pred[i]))\n",
    "        print('\\n')\n",
    "        print('\\n')\n",
    "        weighted_fscore += f1_score(Y_test.values[i],Y_pred[i], average='weighted')\n",
    "\n",
    "    print(\"Overall average f1 score of all categories are: {}\".format(weighted_fscore/(i+1)))\n",
    "    \n",
    "\n",
    "def save_model(model, model_filepath):\n",
    "    \"\"\"Save trained model to sepcified file path\n",
    "    \"\"\"\n",
    "    model.dump(model,model_filepath)\n",
    "\n",
    "    \n",
    "def main():\n",
    "    \n",
    "    X, Y, category_names = load_data('sqlite:///DisasterResponse.db')\n",
    "    X_train, X_test, Y_train, Y_test = train_test_split(X[['message','genre']], Y, test_size=0.2)\n",
    "\n",
    "    print('Building model...')\n",
    "    model = build_model()\n",
    "\n",
    "    print('Training model...')\n",
    "    model.fit(X_train, Y_train)\n",
    "\n",
    "    print('Evaluating model...')\n",
    "    evaluate_model(model, X_test, Y_test, category_names)\n",
    "    \n",
    "\n",
    "    print('Saving model...\\n    MODEL: {}'.format('Random_Forest_trained.pickle'))\n",
    "    save_model(model, 'Random_Forest_trained.pickle')\n",
    "\n",
    "    #print('Trained model saved!')\n",
    "    \n",
    "main()"
   ]
  },
  {
   "cell_type": "code",
   "execution_count": null,
   "metadata": {},
   "outputs": [],
   "source": []
  }
 ],
 "metadata": {
  "kernelspec": {
   "display_name": "Python 3",
   "language": "python",
   "name": "python3"
  },
  "language_info": {
   "codemirror_mode": {
    "name": "ipython",
    "version": 3
   },
   "file_extension": ".py",
   "mimetype": "text/x-python",
   "name": "python",
   "nbconvert_exporter": "python",
   "pygments_lexer": "ipython3",
   "version": "3.7.1"
  }
 },
 "nbformat": 4,
 "nbformat_minor": 2
}
