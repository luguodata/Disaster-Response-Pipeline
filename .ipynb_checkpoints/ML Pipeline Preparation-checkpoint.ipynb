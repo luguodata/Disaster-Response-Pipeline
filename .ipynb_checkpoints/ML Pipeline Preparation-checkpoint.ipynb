{
 "cells": [
  {
   "cell_type": "markdown",
   "metadata": {},
   "source": [
    "# ML Pipeline Preparation\n",
    "Follow the instructions below to help you create your ML pipeline.\n",
    "### 1. Import libraries and load data from database.\n",
    "- Import Python libraries\n",
    "- Load dataset from database with [`read_sql_table`](https://pandas.pydata.org/pandas-docs/stable/generated/pandas.read_sql_table.html)\n",
    "- Define feature and target variables X and Y"
   ]
  },
  {
   "cell_type": "code",
   "execution_count": 1,
   "metadata": {},
   "outputs": [],
   "source": [
    "# import libraries\n",
    "import sys\n",
    "import re\n",
    "import pandas as pd\n",
    "import numpy as np\n",
    "from sqlalchemy import create_engine\n",
    "import warnings \n",
    "warnings.filterwarnings('ignore')\n",
    "from nltk import word_tokenize\n",
    "from nltk.stem import WordNetLemmatizer\n",
    "from nltk.corpus import stopwords\n",
    "from sklearn.feature_extraction.text import CountVectorizer, TfidfTransformer\n",
    "from sklearn.multioutput import MultiOutputClassifier\n",
    "from sklearn.pipeline import Pipeline, FeatureUnion\n",
    "from sklearn.ensemble import RandomForestClassifier\n",
    "from sklearn.model_selection import train_test_split\n",
    "from sklearn.base import BaseEstimator, TransformerMixin\n",
    "from sklearn.metrics import classification_report, f1_score\n",
    "from sklearn.model_selection import GridSearchCV\n",
    "from sklearn.linear_model import SGDClassifier, LogisticRegression\n",
    "from sklearn.preprocessing import OneHotEncoder"
   ]
  },
  {
   "cell_type": "code",
   "execution_count": 2,
   "metadata": {
    "scrolled": true
   },
   "outputs": [
    {
     "data": {
      "text/html": [
       "<div>\n",
       "<style scoped>\n",
       "    .dataframe tbody tr th:only-of-type {\n",
       "        vertical-align: middle;\n",
       "    }\n",
       "\n",
       "    .dataframe tbody tr th {\n",
       "        vertical-align: top;\n",
       "    }\n",
       "\n",
       "    .dataframe thead th {\n",
       "        text-align: right;\n",
       "    }\n",
       "</style>\n",
       "<table border=\"1\" class=\"dataframe\">\n",
       "  <thead>\n",
       "    <tr style=\"text-align: right;\">\n",
       "      <th></th>\n",
       "      <th>id</th>\n",
       "      <th>message</th>\n",
       "      <th>original</th>\n",
       "      <th>genre</th>\n",
       "      <th>related-1</th>\n",
       "      <th>request-0</th>\n",
       "      <th>offer-0</th>\n",
       "      <th>aid_related-0</th>\n",
       "      <th>medical_help-0</th>\n",
       "      <th>medical_products-0</th>\n",
       "      <th>...</th>\n",
       "      <th>aid_centers-0</th>\n",
       "      <th>other_infrastructure-0</th>\n",
       "      <th>weather_related-0</th>\n",
       "      <th>floods-0</th>\n",
       "      <th>storm-0</th>\n",
       "      <th>fire-0</th>\n",
       "      <th>earthquake-0</th>\n",
       "      <th>cold-0</th>\n",
       "      <th>other_weather-0</th>\n",
       "      <th>direct_report-0</th>\n",
       "    </tr>\n",
       "  </thead>\n",
       "  <tbody>\n",
       "    <tr>\n",
       "      <th>0</th>\n",
       "      <td>2</td>\n",
       "      <td>Weather update - a cold front from Cuba that c...</td>\n",
       "      <td>Un front froid se retrouve sur Cuba ce matin. ...</td>\n",
       "      <td>direct</td>\n",
       "      <td>1</td>\n",
       "      <td>0</td>\n",
       "      <td>0</td>\n",
       "      <td>0</td>\n",
       "      <td>0</td>\n",
       "      <td>0</td>\n",
       "      <td>...</td>\n",
       "      <td>0</td>\n",
       "      <td>0</td>\n",
       "      <td>0</td>\n",
       "      <td>0</td>\n",
       "      <td>0</td>\n",
       "      <td>0</td>\n",
       "      <td>0</td>\n",
       "      <td>0</td>\n",
       "      <td>0</td>\n",
       "      <td>0</td>\n",
       "    </tr>\n",
       "    <tr>\n",
       "      <th>1</th>\n",
       "      <td>7</td>\n",
       "      <td>Is the Hurricane over or is it not over</td>\n",
       "      <td>Cyclone nan fini osinon li pa fini</td>\n",
       "      <td>direct</td>\n",
       "      <td>1</td>\n",
       "      <td>0</td>\n",
       "      <td>0</td>\n",
       "      <td>1</td>\n",
       "      <td>0</td>\n",
       "      <td>0</td>\n",
       "      <td>...</td>\n",
       "      <td>0</td>\n",
       "      <td>0</td>\n",
       "      <td>1</td>\n",
       "      <td>0</td>\n",
       "      <td>1</td>\n",
       "      <td>0</td>\n",
       "      <td>0</td>\n",
       "      <td>0</td>\n",
       "      <td>0</td>\n",
       "      <td>0</td>\n",
       "    </tr>\n",
       "    <tr>\n",
       "      <th>2</th>\n",
       "      <td>8</td>\n",
       "      <td>Looking for someone but no name</td>\n",
       "      <td>Patnm, di Maryani relem pou li banm nouvel li ...</td>\n",
       "      <td>direct</td>\n",
       "      <td>1</td>\n",
       "      <td>0</td>\n",
       "      <td>0</td>\n",
       "      <td>0</td>\n",
       "      <td>0</td>\n",
       "      <td>0</td>\n",
       "      <td>...</td>\n",
       "      <td>0</td>\n",
       "      <td>0</td>\n",
       "      <td>0</td>\n",
       "      <td>0</td>\n",
       "      <td>0</td>\n",
       "      <td>0</td>\n",
       "      <td>0</td>\n",
       "      <td>0</td>\n",
       "      <td>0</td>\n",
       "      <td>0</td>\n",
       "    </tr>\n",
       "    <tr>\n",
       "      <th>3</th>\n",
       "      <td>9</td>\n",
       "      <td>UN reports Leogane 80-90 destroyed. Only Hospi...</td>\n",
       "      <td>UN reports Leogane 80-90 destroyed. Only Hospi...</td>\n",
       "      <td>direct</td>\n",
       "      <td>1</td>\n",
       "      <td>1</td>\n",
       "      <td>0</td>\n",
       "      <td>1</td>\n",
       "      <td>0</td>\n",
       "      <td>1</td>\n",
       "      <td>...</td>\n",
       "      <td>0</td>\n",
       "      <td>0</td>\n",
       "      <td>0</td>\n",
       "      <td>0</td>\n",
       "      <td>0</td>\n",
       "      <td>0</td>\n",
       "      <td>0</td>\n",
       "      <td>0</td>\n",
       "      <td>0</td>\n",
       "      <td>0</td>\n",
       "    </tr>\n",
       "    <tr>\n",
       "      <th>4</th>\n",
       "      <td>12</td>\n",
       "      <td>says: west side of Haiti, rest of the country ...</td>\n",
       "      <td>facade ouest d Haiti et le reste du pays aujou...</td>\n",
       "      <td>direct</td>\n",
       "      <td>1</td>\n",
       "      <td>0</td>\n",
       "      <td>0</td>\n",
       "      <td>0</td>\n",
       "      <td>0</td>\n",
       "      <td>0</td>\n",
       "      <td>...</td>\n",
       "      <td>0</td>\n",
       "      <td>0</td>\n",
       "      <td>0</td>\n",
       "      <td>0</td>\n",
       "      <td>0</td>\n",
       "      <td>0</td>\n",
       "      <td>0</td>\n",
       "      <td>0</td>\n",
       "      <td>0</td>\n",
       "      <td>0</td>\n",
       "    </tr>\n",
       "  </tbody>\n",
       "</table>\n",
       "<p>5 rows × 40 columns</p>\n",
       "</div>"
      ],
      "text/plain": [
       "   id                                            message  \\\n",
       "0   2  Weather update - a cold front from Cuba that c...   \n",
       "1   7            Is the Hurricane over or is it not over   \n",
       "2   8                    Looking for someone but no name   \n",
       "3   9  UN reports Leogane 80-90 destroyed. Only Hospi...   \n",
       "4  12  says: west side of Haiti, rest of the country ...   \n",
       "\n",
       "                                            original   genre  related-1  \\\n",
       "0  Un front froid se retrouve sur Cuba ce matin. ...  direct          1   \n",
       "1                 Cyclone nan fini osinon li pa fini  direct          1   \n",
       "2  Patnm, di Maryani relem pou li banm nouvel li ...  direct          1   \n",
       "3  UN reports Leogane 80-90 destroyed. Only Hospi...  direct          1   \n",
       "4  facade ouest d Haiti et le reste du pays aujou...  direct          1   \n",
       "\n",
       "   request-0  offer-0  aid_related-0  medical_help-0  medical_products-0  \\\n",
       "0          0        0              0               0                   0   \n",
       "1          0        0              1               0                   0   \n",
       "2          0        0              0               0                   0   \n",
       "3          1        0              1               0                   1   \n",
       "4          0        0              0               0                   0   \n",
       "\n",
       "        ...         aid_centers-0  other_infrastructure-0  weather_related-0  \\\n",
       "0       ...                     0                       0                  0   \n",
       "1       ...                     0                       0                  1   \n",
       "2       ...                     0                       0                  0   \n",
       "3       ...                     0                       0                  0   \n",
       "4       ...                     0                       0                  0   \n",
       "\n",
       "   floods-0  storm-0  fire-0  earthquake-0  cold-0  other_weather-0  \\\n",
       "0         0        0       0             0       0                0   \n",
       "1         0        1       0             0       0                0   \n",
       "2         0        0       0             0       0                0   \n",
       "3         0        0       0             0       0                0   \n",
       "4         0        0       0             0       0                0   \n",
       "\n",
       "   direct_report-0  \n",
       "0                0  \n",
       "1                0  \n",
       "2                0  \n",
       "3                0  \n",
       "4                0  \n",
       "\n",
       "[5 rows x 40 columns]"
      ]
     },
     "execution_count": 2,
     "metadata": {},
     "output_type": "execute_result"
    }
   ],
   "source": [
    "# load data from database\n",
    "engine = create_engine('sqlite:///DisasterResponse.db')\n",
    "df = pd.read_sql_table('ETL_processed_data', engine)\n",
    "\n",
    "# take a look of df\n",
    "df.head()"
   ]
  },
  {
   "cell_type": "code",
   "execution_count": null,
   "metadata": {},
   "outputs": [],
   "source": [
    "df[['message','original','genre']].dtypes"
   ]
  },
  {
   "cell_type": "code",
   "execution_count": null,
   "metadata": {},
   "outputs": [],
   "source": []
  },
  {
   "cell_type": "code",
   "execution_count": 11,
   "metadata": {},
   "outputs": [],
   "source": [
    "# define the columns \"message\" + \"original\" + \"genre\" as predictors and rest 36 categories as target\n",
    "X = df.ix[:,1:4]\n",
    "Y = df.ix[:,4:]"
   ]
  },
  {
   "cell_type": "code",
   "execution_count": null,
   "metadata": {},
   "outputs": [],
   "source": [
    "X['message'][26187]"
   ]
  },
  {
   "cell_type": "code",
   "execution_count": null,
   "metadata": {},
   "outputs": [],
   "source": [
    "X['original'].isnull().sum()/df.shape[0]"
   ]
  },
  {
   "cell_type": "code",
   "execution_count": null,
   "metadata": {},
   "outputs": [],
   "source": [
    "X['genre'].dtype"
   ]
  },
  {
   "cell_type": "markdown",
   "metadata": {},
   "source": [
    "### Do some data exploratory"
   ]
  },
  {
   "cell_type": "code",
   "execution_count": null,
   "metadata": {},
   "outputs": [],
   "source": [
    "# Take a look of predictors and targets\n",
    "X.head()"
   ]
  },
  {
   "cell_type": "code",
   "execution_count": null,
   "metadata": {},
   "outputs": [],
   "source": [
    "Y.head()"
   ]
  },
  {
   "cell_type": "code",
   "execution_count": null,
   "metadata": {},
   "outputs": [],
   "source": [
    "# check the null values distribution\n",
    "X.isnull().sum()"
   ]
  },
  {
   "cell_type": "code",
   "execution_count": null,
   "metadata": {
    "scrolled": true
   },
   "outputs": [],
   "source": [
    "Y.isnull().sum()"
   ]
  },
  {
   "cell_type": "code",
   "execution_count": null,
   "metadata": {},
   "outputs": [],
   "source": [
    "X['genre'].value_counts()\n"
   ]
  },
  {
   "cell_type": "code",
   "execution_count": null,
   "metadata": {
    "scrolled": true
   },
   "outputs": [],
   "source": [
    "X.select_dtypes(include='object')"
   ]
  },
  {
   "cell_type": "markdown",
   "metadata": {},
   "source": [
    "** Findings\n",
    "For predictors, \"message\" and \"original\" are text variables. \"original\" has 16,046 missing values. \"genre\" is \n",
    "categorical variable and has 3 levels. I am going to do some preprocessing to deal with missing values and text transform.\n",
    "Create dummy variables for the categorical one.\n",
    "For targets, we have no missing values and each label is composed of 0 or 1."
   ]
  },
  {
   "cell_type": "markdown",
   "metadata": {},
   "source": [
    "### 2. Write a tokenization function to process your text data"
   ]
  },
  {
   "cell_type": "code",
   "execution_count": 3,
   "metadata": {},
   "outputs": [],
   "source": [
    "def tokenize(text):\n",
    "    \n",
    "    # Normailization -- lower case + remove puntuation \n",
    "    text = re.sub(r\"[^a-zA-Z0-9]\",\" \",text.lower())\n",
    "    \n",
    "    # tokenization\n",
    "    tokens = word_tokenize(text)\n",
    "    \n",
    "    # Remove stop words\n",
    "    words = [word for word in tokens if word not in stopwords.words(\"english\")]\n",
    "    \n",
    "    # stemmization\n",
    "    text_lems = [WordNetLemmatizer().lemmatize(lem).strip() for lem in words]\n",
    "        \n",
    "    return text_lems"
   ]
  },
  {
   "cell_type": "code",
   "execution_count": null,
   "metadata": {},
   "outputs": [],
   "source": [
    "tokenize(X['message'].values[20])"
   ]
  },
  {
   "cell_type": "markdown",
   "metadata": {},
   "source": [
    "### 3. Build a machine learning pipeline\n",
    "This machine pipeline should take in the `message` column as input and output classification results on the other 36 categories in the dataset. You may find the [MultiOutputClassifier](http://scikit-learn.org/stable/modules/generated/sklearn.multioutput.MultiOutputClassifier.html) helpful for predicting multiple target variables."
   ]
  },
  {
   "cell_type": "code",
   "execution_count": null,
   "metadata": {},
   "outputs": [],
   "source": [
    "pipeline = Pipeline([\n",
    "    ('vect', CountVectorizer(tokenizer = tokenize)),\n",
    "    ('tfidf', TfidfTransformer()),\n",
    "    ('clf', MultiOutputClassifier(RandomForestClassifier(n_estimators = 50, max_depth = 3, min_samples_split = 2)))\n",
    "])"
   ]
  },
  {
   "cell_type": "code",
   "execution_count": 4,
   "metadata": {},
   "outputs": [],
   "source": [
    "# Build text categorical data type selector\n",
    "\n",
    "class Cate_Text_Selector(BaseEstimator, TransformerMixin):\n",
    "    \n",
    "    def __init__(self, dtype):\n",
    "        self.dtype = dtype\n",
    "        \n",
    "    def fit(self, X, y = None):\n",
    "        return self\n",
    "    \n",
    "    def text_selector(self, X):\n",
    "        \n",
    "        text_col = []\n",
    "        cate_col = []\n",
    "        \n",
    "        for col in X.select_dtypes(include='object').columns.tolist():\n",
    "            if len(X[col].unique()) > 0.5 * len(X[X[col].notnull()]):\n",
    "                text_col.append(col)\n",
    "            else:\n",
    "                cate_col.append(col)\n",
    "                \n",
    "        return text_col, cate_col\n",
    "        \n",
    "    def transform(self, X):\n",
    "        \n",
    "        text_col, cate_col = self.text_selector(X)\n",
    "        \n",
    "        if self.dtype == 'text':\n",
    "            return X[text_col].values[:,0]\n",
    "        if self.dtype == 'category':\n",
    "            return X[cate_col].values"
   ]
  },
  {
   "cell_type": "code",
   "execution_count": 7,
   "metadata": {},
   "outputs": [],
   "source": [
    "cts = Cate_Text_Selector('text')"
   ]
  },
  {
   "cell_type": "code",
   "execution_count": 9,
   "metadata": {
    "scrolled": true
   },
   "outputs": [
    {
     "data": {
      "text/plain": [
       "array(['Weather update - a cold front from Cuba that could pass over Haiti',\n",
       "       'Is the Hurricane over or is it not over',\n",
       "       'Looking for someone but no name', ...,\n",
       "       \"Proshika, operating in Cox's Bazar municipality and 5 other unions, Ramu and Chokoria, assessment, 5 kg rice, 1,5 kg lentils to 700 families.\",\n",
       "       'Some 2,000 women protesting against the conduct of the elections were teargassed as they tried to converge on the local electoral commission offices in the southern oil city of Port Harcourt.',\n",
       "       'A radical shift in thinking came about as a result of this meeting, recognizing that HIV/AIDS is at the core of the humanitarian crisis and identifying the crisis itself as a function of the HIV/AIDS pandemic.'],\n",
       "      dtype=object)"
      ]
     },
     "execution_count": 9,
     "metadata": {},
     "output_type": "execute_result"
    }
   ],
   "source": [
    "cts.fit_transform(df[['message']])#[:,0]##.values"
   ]
  },
  {
   "cell_type": "markdown",
   "metadata": {},
   "source": [
    "### 4. Train pipeline\n",
    "- Split data into train and test sets\n",
    "- Train pipeline"
   ]
  },
  {
   "cell_type": "code",
   "execution_count": 12,
   "metadata": {
    "scrolled": true
   },
   "outputs": [],
   "source": [
    "# Split train and test datasets\n",
    "X_train, X_test, Y_train, Y_test = train_test_split(X[['message','genre']],Y,test_size = 0.25, random_state = 42)"
   ]
  },
  {
   "cell_type": "code",
   "execution_count": 13,
   "metadata": {},
   "outputs": [],
   "source": [
    "pipeline = Pipeline([\n",
    "    ('features', FeatureUnion([\n",
    "        ('text_features', Pipeline([\n",
    "            ('selector',Cate_Text_Selector('text')),\n",
    "            ('vect', CountVectorizer(tokenizer = tokenize)),\n",
    "            ('tfidf', TfidfTransformer())\n",
    "        ])),# Text preprocessing ends\n",
    "        \n",
    "        ('cate_features', Pipeline([\n",
    "            ('selector',Cate_Text_Selector('category')),\n",
    "            ('dummy', OneHotEncoder())\n",
    "        ])) # Normal categorical variable preprocessing ends\n",
    "    ])), # Feature part ends\n",
    "    \n",
    "    ('clf', MultiOutputClassifier(RandomForestClassifier()))\n",
    "])"
   ]
  },
  {
   "cell_type": "code",
   "execution_count": 14,
   "metadata": {
    "scrolled": true
   },
   "outputs": [
    {
     "data": {
      "text/plain": [
       "Pipeline(memory=None,\n",
       "     steps=[('features', FeatureUnion(n_jobs=None,\n",
       "       transformer_list=[('text_features', Pipeline(memory=None,\n",
       "     steps=[('selector', Cate_Text_Selector(dtype='text')), ('vect', CountVectorizer(analyzer='word', binary=False, decode_error='strict',\n",
       "        dtype=<class 'numpy.int64'>, encoding='utf..._score=False, random_state=None, verbose=0,\n",
       "            warm_start=False),\n",
       "           n_jobs=None))])"
      ]
     },
     "execution_count": 14,
     "metadata": {},
     "output_type": "execute_result"
    }
   ],
   "source": [
    "# Train pipeline\n",
    "pipeline.fit(X_train, Y_train)"
   ]
  },
  {
   "cell_type": "markdown",
   "metadata": {},
   "source": [
    "### 5. Test your model\n",
    "Report the f1 score, precision and recall for each output category of the dataset. You can do this by iterating through the columns and calling sklearn's `classification_report` on each."
   ]
  },
  {
   "cell_type": "code",
   "execution_count": 16,
   "metadata": {},
   "outputs": [
    {
     "data": {
      "text/plain": [
       "array([[1, 1, 0, ..., 0, 0, 1],\n",
       "       [1, 0, 0, ..., 0, 0, 0],\n",
       "       [1, 0, 0, ..., 0, 0, 0],\n",
       "       ...,\n",
       "       [1, 0, 0, ..., 0, 0, 0],\n",
       "       [1, 0, 0, ..., 0, 0, 0],\n",
       "       [1, 0, 0, ..., 0, 0, 0]])"
      ]
     },
     "execution_count": 16,
     "metadata": {},
     "output_type": "execute_result"
    }
   ],
   "source": [
    "Y_pred"
   ]
  },
  {
   "cell_type": "code",
   "execution_count": null,
   "metadata": {
    "scrolled": true
   },
   "outputs": [],
   "source": [
    "# get prediction on test dataset\n",
    "Y_pred = pipeline.predict(X_test)\n",
    "\n",
    "# Output evaluation score for each target column\n",
    "target_columns = Y.columns.values\n",
    "\n",
    "weighted_fscore = 0\n",
    "for i in np.arange(0,36,1):\n",
    "    print(\"Target:{}\".format(target_columns[i]))\n",
    "    print(\"\\n\")\n",
    "    print(classification_report(Y_test.values[i],Y_pred[i]))\n",
    "    print('\\n')\n",
    "    print('\\n')\n",
    "    weighted_fscore += f1_score(Y_test.values[i],Y_pred[i], average='weighted')\n",
    "\n",
    "print(weighted_fscore/(i+1))"
   ]
  },
  {
   "cell_type": "markdown",
   "metadata": {},
   "source": [
    "### 6. Improve your model\n",
    "Use grid search to find better parameters. "
   ]
  },
  {
   "cell_type": "code",
   "execution_count": null,
   "metadata": {},
   "outputs": [],
   "source": [
    "parameters = {\n",
    "    'clf__estimator__n_estimators': [20, 50],\n",
    "    'clf__estimator__max_depth': [3, 6],\n",
    "    'clf__estimator__min_samples_split': [2,4]\n",
    "}\n",
    "\n",
    "cv = GridSearchCV(pipeline, param_grid= parameters)\n",
    "cv.fit(X_train, Y_train)\n",
    "print(cv.best_params_)"
   ]
  },
  {
   "cell_type": "markdown",
   "metadata": {},
   "source": [
    "### 7. Test your model\n",
    "Show the accuracy, precision, and recall of the tuned model.  \n",
    "\n",
    "Since this project focuses on code quality, process, and  pipelines, there is no minimum performance metric needed to pass. However, make sure to fine tune your models for accuracy, precision and recall to make your project stand out - especially for your portfolio!"
   ]
  },
  {
   "cell_type": "code",
   "execution_count": null,
   "metadata": {},
   "outputs": [],
   "source": [
    "cv_pred = cv.predict(X_test)\n",
    "\n",
    "weighted_fscore = 0\n",
    "for i in np.arange(0,36,1):\n",
    "    print(\"Target:{}\".format(target_columns[i]))\n",
    "    print(\"\\n\")\n",
    "    print(classification_report(Y_test[i],cv_pred[i]))\n",
    "    print('\\n')\n",
    "    print('\\n')\n",
    "    weighted_fscore += f1_score(Y_test[i],cv_pred[i], average='weighted')\n",
    "\n",
    "print(weighted_fscore/(i+1))"
   ]
  },
  {
   "cell_type": "markdown",
   "metadata": {},
   "source": [
    "### 8. Try improving your model further. Here are a few ideas:\n",
    "* try other machine learning algorithms\n",
    "* add other features besides the TF-IDF"
   ]
  },
  {
   "cell_type": "markdown",
   "metadata": {},
   "source": [
    "*** Need to do in pipeline:\n",
    "    1. data type selector -- class\n",
    "    2. text variable selector\n",
    "    3. deal with each data type: \n",
    "        1) numerical -- scaler + imputer (mean)\n",
    "        2) categorical -- imputer ('NaN') + CountVectorizer + tfidf\n",
    "    4. clf\n",
    "    5. Put all together\n",
    "    \n",
    "*** Need to do in different algorithm\n",
    "    1. Try SGDClassifier\n",
    "    2. Try Logistic Regression\n",
    "    \n",
    "*** Compile\n",
    "    1. load data\n",
    "    2. functions\n",
    "    3. pipeline\n",
    "    4. output evaluation results\n",
    "    4. main()"
   ]
  },
  {
   "cell_type": "code",
   "execution_count": null,
   "metadata": {},
   "outputs": [],
   "source": [
    "#### Add more features -- original, genre\n"
   ]
  },
  {
   "cell_type": "code",
   "execution_count": null,
   "metadata": {},
   "outputs": [],
   "source": [
    "# Try SGD\n",
    "pipeline = Pipeline([\n",
    "    ('vect', CountVectorizer(tokenizer = tokenize)),\n",
    "    ('tfidf', TfidfTransformer()),\n",
    "    ('clf', MultiOutputClassifier(SGDClassifier()))\n",
    "])"
   ]
  },
  {
   "cell_type": "code",
   "execution_count": null,
   "metadata": {},
   "outputs": [],
   "source": []
  },
  {
   "cell_type": "markdown",
   "metadata": {},
   "source": [
    "### 9. Export your model as a pickle file"
   ]
  },
  {
   "cell_type": "code",
   "execution_count": null,
   "metadata": {},
   "outputs": [],
   "source": []
  },
  {
   "cell_type": "markdown",
   "metadata": {},
   "source": [
    "### 10. Use this notebook to complete `train.py`\n",
    "Use the template file attached in the Resources folder to write a script that runs the steps above to create a database and export a model based on a new dataset specified by the user."
   ]
  },
  {
   "cell_type": "code",
   "execution_count": null,
   "metadata": {},
   "outputs": [],
   "source": [
    "def load_data(database_filepath):\n",
    "    \"\"\"\n",
    "    \"\"\"\n",
    "    # load data from database\n",
    "    engine = create_engine(database_filepath)\n",
    "    df = pd.read_sql_table('ETL_processed_data', engine)\n",
    "    \n",
    "    # split training and testing dataset\n",
    "    X = df.ix[:,1:4]\n",
    "    Y = df.ix[:,4:]\n",
    "    \n",
    "    # get target variable names\n",
    "    category_names = Y.columns.tolist()\n",
    "    \n",
    "    return X, Y, category_names\n",
    "\n",
    "\n",
    "def tokenize(text):\n",
    "    \"\"\"\n",
    "    \"\"\"\n",
    "    # Normailization -- lower case + remove puntuation \n",
    "    text = re.sub(r\"[^a-zA-Z0-9]\",\" \",text.lower())\n",
    "    \n",
    "    # tokenization\n",
    "    tokens = word_tokenize(text)\n",
    "    \n",
    "    # Remove stop words\n",
    "    words = [word for word in tokens if word not in stopwords.words(\"english\")]\n",
    "    \n",
    "    # stemmization\n",
    "    text_lems = [WordNetLemmatizer().lemmatize(lem).strip() for lem in words]\n",
    "        \n",
    "    return text_lems\n",
    "\n",
    "\n",
    "# Build text categorical data type selector\n",
    "\n",
    "class Cate_Text_Selector(BaseEstimator, TransformerMixin):\n",
    "    \n",
    "    def __init__(self, dtype):\n",
    "        self.dtype = dtype\n",
    "        \n",
    "    def fit(self, X, y = None):\n",
    "        return self\n",
    "    \n",
    "    def text_selector(self, X):\n",
    "        \n",
    "        text_col = []\n",
    "        cate_col = []\n",
    "        \n",
    "        for col in X.select_dtypes(include='object').columns.tolist():\n",
    "            if len(X[col].unique()) > 0.5 * len(X[X[col].notnull()]):\n",
    "                text_col.append(col)\n",
    "            else:\n",
    "                cate_col.append(col)\n",
    "                \n",
    "        return text_col, cate_col\n",
    "        \n",
    "    def transform(self, X):\n",
    "        \n",
    "        text_col, cate_col = self.text_selector(X)\n",
    "        \n",
    "        if self.dtype == 'text':\n",
    "            return X[text_col].values[:,0]\n",
    "        if self.dtype == 'category':\n",
    "            return X[cate_col].values\n",
    "\n",
    "\n",
    "def build_model():\n",
    "    \"\"\"\n",
    "    \"\"\"\n",
    "    \n",
    "    # feature preprocessing pipeline\n",
    "    pipeline = Pipeline([\n",
    "        ('features', FeatureUnion([\n",
    "            ('text_features', Pipeline([\n",
    "                ('selector',Cate_Text_Selector('text')),\n",
    "                ('vect', CountVectorizer(tokenizer = tokenize)),\n",
    "                ('tfidf', TfidfTransformer())\n",
    "            ])),# Text preprocessing ends\n",
    "\n",
    "            ('cate_features', Pipeline([\n",
    "                ('selector',Cate_Text_Selector('category')),\n",
    "                ('dummy', OneHotEncoder())\n",
    "            ])) # Normal categorical variable preprocessing ends\n",
    "        ])), # Feature part ends\n",
    "\n",
    "        ('clf', MultiOutputClassifier(RandomForestClassifier()))\n",
    "    ])\n",
    "    \n",
    "    # grid search\n",
    "    parameters = {\n",
    "        #'clf__estimator__n_estimators': [20, 50],\n",
    "        #'clf__estimator__max_depth': [3, 6]，\n",
    "        'clf__estimator__min_samples_split': [2,4]\n",
    "        # 'clf__estimator__loss': ['log', 'hinge']\n",
    "        #'clf__estimator__penalty': ['l2']\n",
    "    }\n",
    "\n",
    "    cv = GridSearchCV(pipeline, param_grid= parameters)\n",
    "    \n",
    "    return cv\n",
    "\n",
    "\n",
    "def evaluate_model(model, X_test, Y_test, category_names):\n",
    "    \"\"\"\n",
    "    \"\"\"\n",
    "    # prediction on test dataset\n",
    "    Y_pred = model.predict(X_test)\n",
    "    \n",
    "    # initialize aggregated avg score\n",
    "    weighted_fscore = 0\n",
    "    \n",
    "    for i in np.arange(0,36,1):\n",
    "        print(\"Target:{}\".format(category_names[i]))\n",
    "        print(\"\\n\")\n",
    "        print(classification_report(Y_test.values[i],Y_pred[i]))\n",
    "        print('\\n')\n",
    "        print('\\n')\n",
    "        weighted_fscore += f1_score(Y_test.values[i],Y_pred[i], average='weighted')\n",
    "\n",
    "    print(\"Overall average f1 score of all categories are: {}\".format(weighted_fscore/(i+1)))\n",
    "    \n",
    "\n",
    "    \n",
    "def main():\n",
    "    \n",
    "    X, Y, category_names = load_data('sqlite:///DisasterResponse.db')\n",
    "    X_train, X_test, Y_train, Y_test = train_test_split(X[['message','genre']], Y, test_size=0.2)\n",
    "\n",
    "    print('Building model...')\n",
    "    model = build_model()\n",
    "\n",
    "    print('Training model...')\n",
    "    model.fit(X_train, Y_train)\n",
    "\n",
    "    print('Evaluating model...')\n",
    "    evaluate_model(model, X_test, Y_test, category_names)\n",
    "\n",
    "    #print('Saving model...\\n    MODEL: {}'.format(model_filepath))\n",
    "    #save_model(model, model_filepath)\n",
    "\n",
    "    #print('Trained model saved!')\n",
    "    \n",
    "main()"
   ]
  },
  {
   "cell_type": "code",
   "execution_count": null,
   "metadata": {},
   "outputs": [],
   "source": []
  }
 ],
 "metadata": {
  "kernelspec": {
   "display_name": "Python 3",
   "language": "python",
   "name": "python3"
  },
  "language_info": {
   "codemirror_mode": {
    "name": "ipython",
    "version": 3
   },
   "file_extension": ".py",
   "mimetype": "text/x-python",
   "name": "python",
   "nbconvert_exporter": "python",
   "pygments_lexer": "ipython3",
   "version": "3.7.1"
  }
 },
 "nbformat": 4,
 "nbformat_minor": 2
}
